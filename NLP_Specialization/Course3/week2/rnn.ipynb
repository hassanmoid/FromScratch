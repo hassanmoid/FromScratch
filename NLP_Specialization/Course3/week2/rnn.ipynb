{
 "cells": [
  {
   "cell_type": "code",
   "execution_count": 46,
   "metadata": {},
   "outputs": [],
   "source": [
    "import numpy\n",
    "from numpy import random\n",
    "from time import perf_counter"
   ]
  },
  {
   "cell_type": "code",
   "execution_count": 14,
   "metadata": {},
   "outputs": [],
   "source": [
    "def sigmoid(x): # Sigmoid function\n",
    "    return 1.0 / (1.0 + np.exp(-x))"
   ]
  },
  {
   "cell_type": "code",
   "execution_count": 2,
   "metadata": {},
   "outputs": [
    {
     "name": "stdout",
     "output_type": "stream",
     "text": [
      "-- Data --\n",
      "\n",
      "w_hh :\n",
      "[[1 1]\n",
      " [1 1]\n",
      " [1 1]]\n",
      "w_hh shape : (3, 2) \n",
      "\n",
      "w_hx :\n",
      "[[9 9 9]\n",
      " [9 9 9]\n",
      " [9 9 9]]\n",
      "w_hx shape : (3, 3) \n",
      "\n"
     ]
    }
   ],
   "source": [
    "# Create some dummy data\n",
    "\n",
    "w_hh = np.full((3, 2), 1)  # illustration purposes only, returns an array of size 3x2 filled with all 1s\n",
    "w_hx = np.full((3, 3), 9)  # illustration purposes only, returns an array of size 3x3 filled with all 9s\n",
    "\n",
    "\n",
    "### START CODE HERE ###\n",
    "# Try using some random initializations, though it will obfuscate the join. eg: uncomment these lines\n",
    "# w_hh = np.random.standard_normal((3,2))\n",
    "# w_hx = np.random.standard_normal((3,3))\n",
    "### END CODE HERE ###\n",
    "\n",
    "print(\"-- Data --\\n\")\n",
    "print(\"w_hh :\")\n",
    "print(w_hh)\n",
    "print(\"w_hh shape :\", w_hh.shape, \"\\n\")\n",
    "print(\"w_hx :\")\n",
    "print(w_hx)\n",
    "print(\"w_hx shape :\", w_hx.shape, \"\\n\")"
   ]
  },
  {
   "cell_type": "code",
   "execution_count": 6,
   "metadata": {},
   "outputs": [
    {
     "name": "stdout",
     "output_type": "stream",
     "text": [
      "-- Joining --\n",
      "\n",
      "option 1 : concatenate\n",
      "\n",
      "w_h :\n",
      "[[1 1 9 9 9]\n",
      " [1 1 9 9 9]\n",
      " [1 1 9 9 9]]\n",
      "w_h shape : (3, 5) \n",
      "\n"
     ]
    }
   ],
   "source": [
    "# Joining the arrays\n",
    "print(\"-- Joining --\\n\")\n",
    "# Option 1: concatenate - horizontal\n",
    "w_h1 = np.concatenate((w_hh, w_hx), axis=1)\n",
    "print(\"option 1 : concatenate\\n\")\n",
    "print(\"w_h :\")\n",
    "print(w_h1)\n",
    "print(\"w_h shape :\", w_h1.shape, \"\\n\")"
   ]
  },
  {
   "cell_type": "code",
   "execution_count": 4,
   "metadata": {},
   "outputs": [
    {
     "name": "stdout",
     "output_type": "stream",
     "text": [
      "option 2 : hstack\n",
      "\n",
      "w_h :\n",
      "[[1 1 9 9 9]\n",
      " [1 1 9 9 9]\n",
      " [1 1 9 9 9]]\n",
      "w_h shape : (3, 5)\n"
     ]
    }
   ],
   "source": [
    "# Option 2: hstack\n",
    "w_h2 = np.hstack((w_hh, w_hx))\n",
    "print(\"option 2 : hstack\\n\")\n",
    "print(\"w_h :\")\n",
    "print(w_h2)\n",
    "print(\"w_h shape :\", w_h2.shape)"
   ]
  },
  {
   "cell_type": "code",
   "execution_count": 7,
   "metadata": {},
   "outputs": [
    {
     "name": "stdout",
     "output_type": "stream",
     "text": [
      "-- Data --\n",
      "\n",
      "h_t_prev :\n",
      "[[1]\n",
      " [1]]\n",
      "h_t_prev shape : (2, 1) \n",
      "\n",
      "x_t :\n",
      "[[9]\n",
      " [9]\n",
      " [9]]\n",
      "x_t shape : (3, 1) \n",
      "\n",
      "-- Joining --\n",
      "\n",
      "option 1 : concatenate\n",
      "\n",
      "ax_1 :\n",
      "[[1]\n",
      " [1]\n",
      " [9]\n",
      " [9]\n",
      " [9]]\n",
      "ax_1 shape : (5, 1) \n",
      "\n",
      "option 2 : vstack\n",
      "\n",
      "ax_2 :\n",
      "[[1]\n",
      " [1]\n",
      " [9]\n",
      " [9]\n",
      " [9]]\n",
      "ax_2 shape : (5, 1)\n"
     ]
    }
   ],
   "source": [
    "# Create some more dummy data\n",
    "h_t_prev = np.full((2, 1), 1)  # illustration purposes only, returns an array of size 2x1 filled with all 1s\n",
    "x_t = np.full((3, 1), 9)       # illustration purposes only, returns an array of size 3x1 filled with all 9s\n",
    "\n",
    "# Try using some random initializations, though it will obfuscate the join. eg: uncomment these lines\n",
    "\n",
    "### START CODE HERE ###\n",
    "# h_t_prev = np.random.standard_normal((2,1))\n",
    "# x_t = np.random.standard_normal((3,1))\n",
    "### END CODE HERE ###\n",
    "\n",
    "print(\"-- Data --\\n\")\n",
    "print(\"h_t_prev :\")\n",
    "print(h_t_prev)\n",
    "print(\"h_t_prev shape :\", h_t_prev.shape, \"\\n\")\n",
    "print(\"x_t :\")\n",
    "print(x_t)\n",
    "print(\"x_t shape :\", x_t.shape, \"\\n\")\n",
    "\n",
    "# Joining the arrays\n",
    "print(\"-- Joining --\\n\")\n",
    "\n",
    "# Option 1: concatenate - vertical\n",
    "ax_1 = np.concatenate(\n",
    "    (h_t_prev, x_t), axis=0\n",
    ")  # note the difference in axis parameter vs earlier\n",
    "print(\"option 1 : concatenate\\n\")\n",
    "print(\"ax_1 :\")\n",
    "print(ax_1)\n",
    "print(\"ax_1 shape :\", ax_1.shape, \"\\n\")\n",
    "\n",
    "# Option 2: vstack\n",
    "ax_2 = np.vstack((h_t_prev, x_t))\n",
    "print(\"option 2 : vstack\\n\")\n",
    "print(\"ax_2 :\")\n",
    "print(ax_2)\n",
    "print(\"ax_2 shape :\", ax_2.shape)"
   ]
  },
  {
   "cell_type": "code",
   "execution_count": 8,
   "metadata": {},
   "outputs": [],
   "source": [
    "# Data\n",
    "\n",
    "w_hh = np.full((3, 2), 1)  # returns an array of size 3x2 filled with all 1s\n",
    "w_hx = np.full((3, 3), 9)  # returns an array of size 3x3 filled with all 9s\n",
    "h_t_prev = np.full((2, 1), 1)  # returns an array of size 2x1 filled with all 1s\n",
    "x_t = np.full((3, 1), 9)       # returns an array of size 3x1 filled with all 9s"
   ]
  },
  {
   "cell_type": "code",
   "execution_count": 9,
   "metadata": {},
   "outputs": [
    {
     "name": "stdout",
     "output_type": "stream",
     "text": [
      "-- Results --\n",
      "\n",
      "Formula 1\n",
      "Term1:\n",
      " [[1 1 9 9 9]\n",
      " [1 1 9 9 9]\n",
      " [1 1 9 9 9]]\n",
      "Term2:\n",
      " [[1]\n",
      " [1]\n",
      " [9]\n",
      " [9]\n",
      " [9]]\n",
      "Output:\n",
      "[[245]\n",
      " [245]\n",
      " [245]]\n"
     ]
    }
   ],
   "source": [
    "# Results\n",
    "print(\"-- Results --\")\n",
    "# Formula 1\n",
    "stack_1 = np.hstack((w_hh, w_hx))\n",
    "stack_2 = np.vstack((h_t_prev, x_t))\n",
    "\n",
    "print(\"\\nFormula 1\")\n",
    "print(\"Term1:\\n\",stack_1)\n",
    "print(\"Term2:\\n\",stack_2)\n",
    "formula_1 = np.matmul(np.hstack((w_hh, w_hx)), np.vstack((h_t_prev, x_t)))\n",
    "print(\"Output:\")\n",
    "print(formula_1)"
   ]
  },
  {
   "cell_type": "code",
   "execution_count": 10,
   "metadata": {},
   "outputs": [
    {
     "name": "stdout",
     "output_type": "stream",
     "text": [
      "\n",
      "Formula 2\n",
      "Term1:\n",
      " [[2]\n",
      " [2]\n",
      " [2]]\n",
      "Term2:\n",
      " [[243]\n",
      " [243]\n",
      " [243]]\n",
      "\n",
      "Output:\n",
      "[[245]\n",
      " [245]\n",
      " [245]] \n",
      "\n"
     ]
    }
   ],
   "source": [
    "# Formula 2\n",
    "mul_1 = np.matmul(w_hh, h_t_prev)\n",
    "mul_2 = np.matmul(w_hx, x_t)\n",
    "print(\"\\nFormula 2\")\n",
    "print(\"Term1:\\n\",mul_1)\n",
    "print(\"Term2:\\n\",mul_2)\n",
    "\n",
    "formula_2 = np.matmul(w_hh, h_t_prev) + np.matmul(w_hx, x_t)\n",
    "print(\"\\nOutput:\")\n",
    "print(formula_2, \"\\n\")\n"
   ]
  },
  {
   "cell_type": "code",
   "execution_count": 11,
   "metadata": {},
   "outputs": [
    {
     "name": "stdout",
     "output_type": "stream",
     "text": [
      "-- Verify --\n",
      "Results are the same : True\n"
     ]
    }
   ],
   "source": [
    "print(\"-- Verify --\")\n",
    "print(\"Results are the same :\", np.allclose(formula_1, formula_2))"
   ]
  },
  {
   "cell_type": "code",
   "execution_count": 12,
   "metadata": {},
   "outputs": [
    {
     "name": "stdout",
     "output_type": "stream",
     "text": [
      "Formula 1 Output:\n",
      " [[1.]\n",
      " [1.]\n",
      " [1.]]\n",
      "Formula 2 Output:\n",
      " [[1.]\n",
      " [1.]\n",
      " [1.]]\n",
      "Results after activation are the same : True\n"
     ]
    }
   ],
   "source": [
    "# # Try adding a sigmoid activation function and bias term as a final check\n",
    "# # Activation\n",
    "def sigmoid(x):\n",
    "    return 1 / (1 + np.exp(-x))\n",
    "\n",
    "# # Bias and check\n",
    "b = np.random.standard_normal((formula_1.shape[0],1))\n",
    "print(\"Formula 1 Output:\\n\",sigmoid(formula_1+b))\n",
    "print(\"Formula 2 Output:\\n\",sigmoid(formula_2+b))\n",
    "\n",
    "all_close = np.allclose(sigmoid(formula_1+b), sigmoid(formula_2+b))\n",
    "print(\"Results after activation are the same :\",all_close)"
   ]
  },
  {
   "cell_type": "markdown",
   "metadata": {},
   "source": [
    "### Forward pass for Vanilla RNNs and GRUs"
   ]
  },
  {
   "cell_type": "code",
   "execution_count": 15,
   "metadata": {},
   "outputs": [
    {
     "name": "stdout",
     "output_type": "stream",
     "text": [
      "(256, 128, 1)\n",
      "(16, 144)\n",
      "(16, 144)\n",
      "(16, 144)\n",
      "(16, 1)\n",
      "(16, 1)\n",
      "(16, 1)\n",
      "(16, 1)\n"
     ]
    }
   ],
   "source": [
    "random.seed(10)                 # Random seed, so your results match ours\n",
    "emb = 128                       # Embedding size\n",
    "T = 256                         # Number of variables in the sequences\n",
    "h_dim = 16                      # Hidden state dimension\n",
    "h_0 = np.zeros((h_dim, 1))      # Initial hidden state\n",
    "# Random initialization of weights and biases\n",
    "w1 = random.standard_normal((h_dim, emb+h_dim))\n",
    "w2 = random.standard_normal((h_dim, emb+h_dim))\n",
    "w3 = random.standard_normal((h_dim, emb+h_dim))\n",
    "b1 = random.standard_normal((h_dim, 1))\n",
    "b2 = random.standard_normal((h_dim, 1))\n",
    "b3 = random.standard_normal((h_dim, 1))\n",
    "X = random.standard_normal((T, emb, 1))\n",
    "weights = [w1, w2, w3, b1, b2, b3]\n",
    "\n",
    "print(X.shape)\n",
    "\n",
    "for w in weights:\n",
    "    print(w.shape)\n",
    "\n",
    "print(h_0.shape)"
   ]
  },
  {
   "cell_type": "code",
   "execution_count": 22,
   "metadata": {},
   "outputs": [
    {
     "data": {
      "text/plain": [
       "(144, 1)"
      ]
     },
     "execution_count": 22,
     "metadata": {},
     "output_type": "execute_result"
    }
   ],
   "source": [
    "np.vstack((h_0,X[0])).shape"
   ]
  },
  {
   "cell_type": "code",
   "execution_count": 27,
   "metadata": {},
   "outputs": [
    {
     "data": {
      "text/plain": [
       "(144, 1)"
      ]
     },
     "execution_count": 27,
     "metadata": {},
     "output_type": "execute_result"
    }
   ],
   "source": [
    "np.concatenate([h_0, X[0]]).shape"
   ]
  },
  {
   "cell_type": "code",
   "execution_count": 28,
   "metadata": {},
   "outputs": [],
   "source": [
    "def forward_V_RNN(inputs, weights): # Forward propagation for a a single vanilla RNN cell\n",
    "    x, h_t = inputs\n",
    "\n",
    "    # weights.\n",
    "    wh, _, _, bh, _, _ = weights\n",
    "\n",
    "    # new hidden state\n",
    "    h_t = np.dot(wh, np.concatenate([h_t, x])) + bh\n",
    "    h_t = sigmoid(h_t)\n",
    "\n",
    "    return h_t, h_t"
   ]
  },
  {
   "cell_type": "code",
   "execution_count": 29,
   "metadata": {},
   "outputs": [
    {
     "data": {
      "text/plain": [
       "(16, 1)"
      ]
     },
     "execution_count": 29,
     "metadata": {},
     "output_type": "execute_result"
    }
   ],
   "source": [
    "forward_V_RNN([X[1],h_0], weights)[0].shape"
   ]
  },
  {
   "cell_type": "code",
   "execution_count": 30,
   "metadata": {},
   "outputs": [],
   "source": [
    "def forward_GRU(inputs, weights): # Forward propagation for a single GRU cell\n",
    "    x, h_t = inputs\n",
    "\n",
    "    # weights.\n",
    "    wu, wr, wc, bu, br, bc = weights\n",
    "\n",
    "    # Update gate\n",
    "    ### START CODE HERE (1-2 lINES) ###\n",
    "    u = np.dot(wu, np.concatenate([h_t, x])) + bu\n",
    "    u = sigmoid(u)\n",
    "    ### END CODE HERE ###\n",
    "    \n",
    "    # Relevance gate\n",
    "    ### START CODE HERE (1-2 lINES) ###\n",
    "    r = np.dot(wr, np.concatenate([h_t, x])) + br\n",
    "    r = sigmoid(r)\n",
    "    ### END CODE HERE ###\n",
    "    \n",
    "    # Candidate hidden state \n",
    "    ### START CODE HERE (1-2 lINES) ###\n",
    "    c = np.dot(wc, np.concatenate([r * h_t, x])) + bc\n",
    "    c = np.tanh(c)\n",
    "    ### END CODE HERE ###\n",
    "    \n",
    "    # New Hidden state h_t\n",
    "    h_t = u* c + (1 - u)* h_t\n",
    "    return h_t, h_t"
   ]
  },
  {
   "cell_type": "code",
   "execution_count": 31,
   "metadata": {},
   "outputs": [
    {
     "data": {
      "text/plain": [
       "(16, 1)"
      ]
     },
     "execution_count": 31,
     "metadata": {},
     "output_type": "execute_result"
    }
   ],
   "source": [
    "forward_GRU([X[1],h_0], weights)[0].shape"
   ]
  },
  {
   "cell_type": "markdown",
   "metadata": {},
   "source": [
    "### Scan Function"
   ]
  },
  {
   "cell_type": "code",
   "execution_count": 32,
   "metadata": {},
   "outputs": [],
   "source": [
    "def scan(fn, elems, weights, h_0=None): # Forward propagation for RNNs\n",
    "    h_t = h_0\n",
    "    ys = []\n",
    "    for x in elems:\n",
    "        ### START CODE HERE (1 lINE) ###\n",
    "        y, h_t = fn([x, h_t], weights)\n",
    "        ### END CODE HERE ###\n",
    "        ys.append(y)\n",
    "    return ys, h_t"
   ]
  },
  {
   "cell_type": "code",
   "execution_count": 40,
   "metadata": {},
   "outputs": [
    {
     "name": "stdout",
     "output_type": "stream",
     "text": [
      "256\n",
      "(16, 1)\n",
      "It took 4.87ms to run the forward method for the vanilla RNN.\n"
     ]
    }
   ],
   "source": [
    "# vanilla RNNs\n",
    "tic = perf_counter()\n",
    "ys, h_T = scan(forward_V_RNN, X, weights, h_0)\n",
    "toc = perf_counter()\n",
    "RNN_time=(toc-tic)*1000\n",
    "print(len(ys))\n",
    "print(h_T.shape)\n",
    "print (f\"It took {RNN_time:.2f}ms to run the forward method for the vanilla RNN.\")"
   ]
  },
  {
   "cell_type": "code",
   "execution_count": 43,
   "metadata": {},
   "outputs": [
    {
     "name": "stdout",
     "output_type": "stream",
     "text": [
      "256\n",
      "(16, 1)\n",
      "It took 6.40ms to run the forward method for the GRU.\n"
     ]
    }
   ],
   "source": [
    "# GRUs\n",
    "tic = perf_counter()\n",
    "ys, h_T = scan(forward_GRU, X, weights, h_0)\n",
    "toc = perf_counter()\n",
    "GRU_time=(toc-tic)*1000\n",
    "print(len(ys))\n",
    "print(h_T.shape)\n",
    "print (f\"It took {GRU_time:.2f}ms to run the forward method for the GRU.\")"
   ]
  },
  {
   "cell_type": "markdown",
   "metadata": {},
   "source": [
    "### JAX numpy"
   ]
  },
  {
   "cell_type": "code",
   "execution_count": 44,
   "metadata": {},
   "outputs": [
    {
     "name": "stderr",
     "output_type": "stream",
     "text": [
      "2022-09-02 21:22:36.312034: W tensorflow/stream_executor/platform/default/dso_loader.cc:64] Could not load dynamic library 'libcudart.so.11.0'; dlerror: libcudart.so.11.0: cannot open shared object file: No such file or directory\n"
     ]
    }
   ],
   "source": [
    "import numpy\n",
    "import trax\n",
    "import trax.fastmath.numpy as np\n",
    "\n",
    "# Setting random seeds\n",
    "numpy.random.seed(32)"
   ]
  },
  {
   "cell_type": "code",
   "execution_count": 47,
   "metadata": {},
   "outputs": [
    {
     "name": "stdout",
     "output_type": "stream",
     "text": [
      "The regular numpy array looks like this:\n",
      "\n",
      " [[0.85888927 0.37271115 0.55512878 0.95565655 0.7366696  0.81620514\n",
      "  0.10108656 0.92848807 0.60910917 0.59655344]\n",
      " [0.09178413 0.34518624 0.66275252 0.44171349 0.55148779 0.70371249\n",
      "  0.58940123 0.04993276 0.56179184 0.76635847]\n",
      " [0.91090833 0.09290995 0.90252139 0.46096041 0.45201847 0.99942549\n",
      "  0.16242374 0.70937058 0.16062408 0.81077677]\n",
      " [0.03514717 0.53488673 0.16650012 0.30841038 0.04506241 0.23857613\n",
      "  0.67483453 0.78238275 0.69520163 0.32895445]\n",
      " [0.49403187 0.52412136 0.29854125 0.46310814 0.98478429 0.50113492\n",
      "  0.39807245 0.72790532 0.86333097 0.02616954]]\n",
      "\n",
      "It is of type: <class 'numpy.ndarray'>\n"
     ]
    }
   ],
   "source": [
    "numpy_array = numpy.random.random((5,10))\n",
    "print(f\"The regular numpy array looks like this:\\n\\n {numpy_array}\\n\")\n",
    "print(f\"It is of type: {type(numpy_array)}\")"
   ]
  },
  {
   "cell_type": "code",
   "execution_count": 48,
   "metadata": {},
   "outputs": [
    {
     "name": "stderr",
     "output_type": "stream",
     "text": [
      "WARNING:absl:No GPU/TPU found, falling back to CPU. (Set TF_CPP_MIN_LOG_LEVEL=0 and rerun for more info.)\n"
     ]
    },
    {
     "name": "stdout",
     "output_type": "stream",
     "text": [
      "The trax numpy array looks like this:\n",
      "\n",
      " [[0.8588893  0.37271115 0.55512875 0.9556565  0.7366696  0.81620514\n",
      "  0.10108656 0.9284881  0.60910916 0.59655344]\n",
      " [0.09178413 0.34518623 0.6627525  0.44171348 0.5514878  0.70371246\n",
      "  0.58940125 0.04993276 0.56179184 0.7663585 ]\n",
      " [0.91090834 0.09290995 0.9025214  0.46096042 0.45201847 0.9994255\n",
      "  0.16242374 0.7093706  0.16062407 0.81077677]\n",
      " [0.03514718 0.5348867  0.16650012 0.30841038 0.04506241 0.23857613\n",
      "  0.67483455 0.7823827  0.69520164 0.32895446]\n",
      " [0.49403188 0.52412134 0.29854125 0.46310815 0.9847843  0.50113493\n",
      "  0.39807245 0.72790533 0.86333096 0.02616954]]\n",
      "\n",
      "It is of type: <class 'jaxlib.xla_extension.DeviceArray'>\n"
     ]
    }
   ],
   "source": [
    "trax_numpy_array = np.array(numpy_array)\n",
    "print(f\"The trax numpy array looks like this:\\n\\n {trax_numpy_array}\\n\")\n",
    "print(f\"It is of type: {type(trax_numpy_array)}\")"
   ]
  },
  {
   "cell_type": "code",
   "execution_count": null,
   "metadata": {},
   "outputs": [],
   "source": []
  }
 ],
 "metadata": {
  "kernelspec": {
   "display_name": "Python 3 (ipykernel)",
   "language": "python",
   "name": "python3"
  },
  "language_info": {
   "codemirror_mode": {
    "name": "ipython",
    "version": 3
   },
   "file_extension": ".py",
   "mimetype": "text/x-python",
   "name": "python",
   "nbconvert_exporter": "python",
   "pygments_lexer": "ipython3",
   "version": "3.7.13"
  },
  "orig_nbformat": 4
 },
 "nbformat": 4,
 "nbformat_minor": 2
}
