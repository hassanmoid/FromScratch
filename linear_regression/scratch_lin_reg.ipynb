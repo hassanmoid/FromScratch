{
 "cells": [
  {
   "cell_type": "code",
   "execution_count": 1,
   "metadata": {},
   "outputs": [],
   "source": [
    "import pandas as pd\n",
    "import numpy as np\n",
    "import sys\n",
    "import os\n",
    "import matplotlib.pyplot as plt\n",
    "from sklearn.metrics import mean_squared_error,r2_score,mean_absolute_error, mean_absolute_percentage_error,median_absolute_error\n",
    "np.random.seed(0)\n",
    "\n",
    "from regression_module import MultipleLinearRegression"
   ]
  },
  {
   "cell_type": "code",
   "execution_count": 13,
   "metadata": {},
   "outputs": [],
   "source": [
    "#Global variables\n",
    "base_data_loc = \"../data/regression\""
   ]
  },
  {
   "cell_type": "code",
   "execution_count": 3,
   "metadata": {},
   "outputs": [],
   "source": [
    "def read_data(file_loc):\n",
    "    df = pd.read_csv(file_loc)\n",
    "    return df\n",
    "\n",
    "def generate_file_location(name,base_data_loc=base_data_loc):\n",
    "    return os.path.join(base_data_loc, name)\n",
    "\n",
    "def preprocessing_dev_val(dev_x, val_x, preprocessing_type):\n",
    "    if preprocessing_type ==\"standard\":\n",
    "        print(\"Standardization preprocessing initiated:\")\n",
    "        mean_list = np.mean(dev_x, axis=0)\n",
    "        std_list = np.std(dev_x,axis=0)\n",
    "        standard_dev = (dev_x - mean_list) / std_list\n",
    "        standard_val = (val_x - mean_list) / std_list\n",
    "        return standard_dev, standard_val\n",
    "    else:\n",
    "        print(\"Normaliztion preprocessing initiated:\")\n",
    "        min_list = np.min(dev_x,axis=0)\n",
    "        max_list = np.max(dev_x,axis=0)\n",
    "        normal_dev = (dev_x - min_list) / (max_list - min_list)\n",
    "        normal_val = (val_x - min_list) / (max_list - min_list)\n",
    "        return normal_dev, normal_val\n",
    "\n",
    "def smape_error(y_true, y_pred):\n",
    "    return 100/len(y_true) * np.sum(2 * np.abs(y_pred - y_true) / (np.abs(y_true) + np.abs(y_pred)))\n",
    "\n",
    "def linear_regression_metrics(y_true, y_pred):\n",
    "    r_square = r2_score(y_true, y_pred)\n",
    "    mse = mean_squared_error(y_true, y_pred)\n",
    "    mae = mean_absolute_error(y_true, y_pred)\n",
    "    smape = smape_error(y_true, y_pred)\n",
    "    mape = mean_absolute_percentage_error(y_true, y_pred)\n",
    "    med_ae = median_absolute_error(y_true, y_pred)\n",
    "\n",
    "    return r_square, mse, mae, smape, mape, med_ae\n",
    "    \n"
   ]
  },
  {
   "cell_type": "code",
   "execution_count": 15,
   "metadata": {},
   "outputs": [],
   "source": [
    "data_loc_dict = {'fish':generate_file_location(\"fish.csv\"), 'insurance':generate_file_location(\"insurance.csv\"),'real estate':generate_file_location(\"real_estate.csv\"), 'physical activity':generate_file_location(\"physical_activity_obesity.csv\")}"
   ]
  },
  {
   "cell_type": "code",
   "execution_count": 34,
   "metadata": {},
   "outputs": [
    {
     "name": "stdout",
     "output_type": "stream",
     "text": [
      "['']\n"
     ]
    }
   ],
   "source": [
    "data_name = \"real estate\"\n",
    "category_col_list = \"\".split(\",\")\n",
    "print(category_col_list)\n",
    "target_col_name = \"Y house price of unit area\""
   ]
  },
  {
   "cell_type": "code",
   "execution_count": 31,
   "metadata": {},
   "outputs": [
    {
     "name": "stdout",
     "output_type": "stream",
     "text": [
      "(414, 8)\n",
      "   No  X1 transaction date  X2 house age  \\\n",
      "0   1             2012.917          32.0   \n",
      "1   2             2012.917          19.5   \n",
      "2   3             2013.583          13.3   \n",
      "3   4             2013.500          13.3   \n",
      "4   5             2012.833           5.0   \n",
      "\n",
      "   X3 distance to the nearest MRT station  X4 number of convenience stores  \\\n",
      "0                                84.87882                               10   \n",
      "1                               306.59470                                9   \n",
      "2                               561.98450                                5   \n",
      "3                               561.98450                                5   \n",
      "4                               390.56840                                5   \n",
      "\n",
      "   X5 latitude  X6 longitude  Y house price of unit area  \n",
      "0     24.98298     121.54024                        37.9  \n",
      "1     24.98034     121.53951                        42.2  \n",
      "2     24.98746     121.54391                        47.3  \n",
      "3     24.98746     121.54391                        54.8  \n",
      "4     24.97937     121.54245                        43.1  \n"
     ]
    }
   ],
   "source": [
    "df_inp = read_data(data_loc_dict[data_name])\n",
    "print(df_inp.shape)\n",
    "print(df_inp.head())"
   ]
  },
  {
   "cell_type": "code",
   "execution_count": 35,
   "metadata": {},
   "outputs": [
    {
     "name": "stdout",
     "output_type": "stream",
     "text": [
      "DF after dropping categorical columns\n",
      "   No  X1 transaction date  X2 house age  \\\n",
      "0   1             2012.917          32.0   \n",
      "1   2             2012.917          19.5   \n",
      "2   3             2013.583          13.3   \n",
      "3   4             2013.500          13.3   \n",
      "4   5             2012.833           5.0   \n",
      "\n",
      "   X3 distance to the nearest MRT station  X4 number of convenience stores  \\\n",
      "0                                84.87882                               10   \n",
      "1                               306.59470                                9   \n",
      "2                               561.98450                                5   \n",
      "3                               561.98450                                5   \n",
      "4                               390.56840                                5   \n",
      "\n",
      "   X5 latitude  X6 longitude  Y house price of unit area  \n",
      "0     24.98298     121.54024                        37.9  \n",
      "1     24.98034     121.53951                        42.2  \n",
      "2     24.98746     121.54391                        47.3  \n",
      "3     24.98746     121.54391                        54.8  \n",
      "4     24.97937     121.54245                        43.1  \n",
      "   No  X1 transaction date  X2 house age  \\\n",
      "0   1             2012.917          32.0   \n",
      "1   2             2012.917          19.5   \n",
      "2   3             2013.583          13.3   \n",
      "3   4             2013.500          13.3   \n",
      "4   5             2012.833           5.0   \n",
      "\n",
      "   X3 distance to the nearest MRT station  X4 number of convenience stores  \\\n",
      "0                                84.87882                               10   \n",
      "1                               306.59470                                9   \n",
      "2                               561.98450                                5   \n",
      "3                               561.98450                                5   \n",
      "4                               390.56840                                5   \n",
      "\n",
      "   X5 latitude  X6 longitude  Y house price of unit area  \n",
      "0     24.98298     121.54024                        37.9  \n",
      "1     24.98034     121.53951                        42.2  \n",
      "2     24.98746     121.54391                        47.3  \n",
      "3     24.98746     121.54391                        54.8  \n",
      "4     24.97937     121.54245                        43.1  \n"
     ]
    }
   ],
   "source": [
    "\n",
    "#dropping the category columns from input data for simplicity\n",
    "if len(category_col_list) > 0 and len(category_col_list[0])>0:\n",
    "    df_inp.drop(category_col_list,axis=1,inplace=True)\n",
    "\n",
    "print(\"DF after dropping categorical columns\")\n",
    "print(df_inp.head())\n",
    "\n",
    "df_target = df_inp[target_col_name]\n",
    "df_inp.drop([target_col_name],axis=1,inplace=True)\n",
    "df_inp[target_col_name] = df_target\n",
    "print(df_inp.head())\n"
   ]
  },
  {
   "cell_type": "code",
   "execution_count": 36,
   "metadata": {},
   "outputs": [
    {
     "name": "stdout",
     "output_type": "stream",
     "text": [
      "dev data shape (318, 8)\n",
      "val data shape (96, 8)\n",
      "Standardization preprocessing initiated:\n",
      "shape of dev data - independent variable - (318, 7), dependent variable - (318,)\n",
      "shape of val data - independent variable - (96, 7), dependent variable - (96,)\n",
      "checking the preprocessing of standardization\n",
      "For dev:\n",
      "[-3.25386119e-16 -1.44115537e-12  2.39500942e-16 -9.49624725e-17\n",
      "  7.47131218e-17  1.51264745e-13 -3.25278867e-12]\n",
      "[1. 1. 1. 1. 1. 1. 1.]\n",
      "For val:\n",
      "[ 0.08678711  0.05893621 -0.10874576 -0.04388197  0.16962501  0.10953223\n",
      " -0.00540171]\n",
      "[1.02427432 1.08632443 1.01618177 1.04642324 1.08731238 1.04225911\n",
      " 0.97966003]\n",
      "\n",
      "\n",
      "Normaliztion preprocessing initiated:\n",
      "shape of dev data - independent variable - (318, 7), dependent variable - (318,)\n",
      "shape of val data - independent variable - (96, 7), dependent variable - (96,)\n",
      "checking the preprocessing of normalization\n",
      "For dev:\n",
      "[0. 0. 0. 0. 0. 0. 0.]\n",
      "[1. 1. 1. 1. 1. 1. 1.]\n",
      "For val:\n",
      "[ 0.01694915  0.          0.         -0.00408151  0.         -0.01053147\n",
      "  0.05714902]\n",
      "[0.97820823 1.         0.94520548 0.98575134 1.         0.83541514\n",
      " 0.95115376]\n"
     ]
    }
   ],
   "source": [
    "dev = []\n",
    "val = []\n",
    "np.random.seed(0)\n",
    "inp_values = df_inp.values\n",
    "for  i in range(len(inp_values)):\n",
    "    if np.random.rand() < 0.75:\n",
    "        dev.append(inp_values[i])\n",
    "    else:\n",
    "        val.append(inp_values[i])\n",
    "dev = np.array(dev)\n",
    "val = np.array(val)\n",
    "\n",
    "print(f\"dev data shape {dev.shape}\")\n",
    "print(f\"val data shape {val.shape}\")\n",
    "\n",
    "y_dev = dev[:,-1]\n",
    "y_val = val[:,-1]\n",
    "\n",
    "standardize_x_dev, standardize_x_val = preprocessing_dev_val(dev[:,0:-1], val[:,0:-1],\"standard\")\n",
    "print(f\"shape of dev data - independent variable - {standardize_x_dev.shape}, dependent variable - {y_dev.shape}\")\n",
    "print(f\"shape of val data - independent variable - {standardize_x_val.shape}, dependent variable - {y_val.shape}\")\n",
    "print(\"checking the preprocessing of standardization\")\n",
    "print(\"For dev:\")\n",
    "print(np.mean(standardize_x_dev,axis=0))\n",
    "print(np.std(standardize_x_dev,axis=0))\n",
    "print(\"For val:\")\n",
    "print(np.mean(standardize_x_val,axis=0))\n",
    "print(np.std(standardize_x_val,axis=0))\n",
    "print(\"\\n\")\n",
    "\n",
    "normal_x_dev, normal_x_val = preprocessing_dev_val(dev[:,0:-1], val[:,0:-1],\"normal\")\n",
    "print(f\"shape of dev data - independent variable - {normal_x_dev.shape}, dependent variable - {y_dev.shape}\")\n",
    "print(f\"shape of val data - independent variable - {normal_x_val.shape}, dependent variable - {y_val.shape}\")\n",
    "print(\"checking the preprocessing of normalization\")\n",
    "print(\"For dev:\")\n",
    "print(np.min(normal_x_dev,axis=0))\n",
    "print(np.max(normal_x_dev,axis=0))\n",
    "print(\"For val:\")\n",
    "print(np.min(normal_x_val,axis=0))\n",
    "print(np.max(normal_x_val,axis=0))\n"
   ]
  },
  {
   "cell_type": "markdown",
   "metadata": {},
   "source": [
    "### Running Linear Regression when the preprocessing is standardization"
   ]
  },
  {
   "cell_type": "code",
   "execution_count": 43,
   "metadata": {},
   "outputs": [
    {
     "data": {
      "text/html": [
       "<div>\n",
       "<style scoped>\n",
       "    .dataframe tbody tr th:only-of-type {\n",
       "        vertical-align: middle;\n",
       "    }\n",
       "\n",
       "    .dataframe tbody tr th {\n",
       "        vertical-align: top;\n",
       "    }\n",
       "\n",
       "    .dataframe thead th {\n",
       "        text-align: right;\n",
       "    }\n",
       "</style>\n",
       "<table border=\"1\" class=\"dataframe\">\n",
       "  <thead>\n",
       "    <tr style=\"text-align: right;\">\n",
       "      <th></th>\n",
       "      <th>epochs</th>\n",
       "      <th>cost</th>\n",
       "    </tr>\n",
       "  </thead>\n",
       "  <tbody>\n",
       "    <tr>\n",
       "      <th>1995</th>\n",
       "      <td>1996</td>\n",
       "      <td>32.346765</td>\n",
       "    </tr>\n",
       "    <tr>\n",
       "      <th>1996</th>\n",
       "      <td>1997</td>\n",
       "      <td>32.346765</td>\n",
       "    </tr>\n",
       "    <tr>\n",
       "      <th>1997</th>\n",
       "      <td>1998</td>\n",
       "      <td>32.346765</td>\n",
       "    </tr>\n",
       "    <tr>\n",
       "      <th>1998</th>\n",
       "      <td>1999</td>\n",
       "      <td>32.346765</td>\n",
       "    </tr>\n",
       "    <tr>\n",
       "      <th>1999</th>\n",
       "      <td>2000</td>\n",
       "      <td>32.346765</td>\n",
       "    </tr>\n",
       "  </tbody>\n",
       "</table>\n",
       "</div>"
      ],
      "text/plain": [
       "      epochs       cost\n",
       "1995    1996  32.346765\n",
       "1996    1997  32.346765\n",
       "1997    1998  32.346765\n",
       "1998    1999  32.346765\n",
       "1999    2000  32.346765"
      ]
     },
     "execution_count": 43,
     "metadata": {},
     "output_type": "execute_result"
    }
   ],
   "source": [
    "np.random.seed(42)\n",
    "num_iterations = 2000\n",
    "learning_rate = 0.01\n",
    "\n",
    "rows, columns = standardize_x_dev.shape\n",
    "weights = np.random.rand(columns)\n",
    "bias_term = np.random.rand()\n",
    "lr = MultipleLinearRegression(learning_rate, num_iterations, standardize_x_dev, y_dev)\n",
    "\n",
    "cost_list = []\n",
    "for i in range(num_iterations):\n",
    "    y_pred = lr.forward_propagation(weights, bias_term)\n",
    "    #print(y_pred[0:5])\n",
    "    cost = lr.compute_cost(y_dev, y_pred)\n",
    "    cost_list.append(cost)\n",
    "    #print(f\"cost for iteration={i+1} is {cost}\")\n",
    "    weights, bias_term = lr.backward_propagation(y_pred, standardize_x_dev, y_dev, weights, bias_term)\n",
    "\n",
    "\n",
    "df_cost = pd.DataFrame(data=cost_list, columns=[\"cost\"]).reset_index()\n",
    "df_cost.columns = [\"epochs\", \"cost\"]\n",
    "df_cost[\"epochs\"] = df_cost[\"epochs\"] + 1\n",
    "df_cost.tail()"
   ]
  },
  {
   "cell_type": "code",
   "execution_count": 44,
   "metadata": {},
   "outputs": [
    {
     "data": {
      "text/plain": [
       "<AxesSubplot:title={'center':'Epochs vs cost'}, xlabel='epochs'>"
      ]
     },
     "execution_count": 44,
     "metadata": {},
     "output_type": "execute_result"
    },
    {
     "data": {
      "image/png": "[encoded data removed]",
      "text/plain": [
       "<Figure size 720x720 with 1 Axes>"
      ]
     },
     "metadata": {
      "needs_background": "light"
     },
     "output_type": "display_data"
    }
   ],
   "source": [
    "df_cost.plot(x=\"epochs\",y=\"cost\",title=\"Epochs vs cost\",figsize=(10,10),colormap=\"summer\", marker=\".\")"
   ]
  },
  {
   "cell_type": "code",
   "execution_count": 45,
   "metadata": {},
   "outputs": [
    {
     "name": "stdout",
     "output_type": "stream",
     "text": [
      "training data metrics:\n",
      "r-square: 0.6343114835660106\n",
      "mean square error: 64.6935303534847\n",
      "mean absolute error: 5.95471803201223\n",
      "SMAPE 17.249007373631876\n",
      "median absolute error: 4.789296431876256\n",
      "\n",
      "\n",
      "test data metrics:\n",
      "r-square: 0.4158197596148473\n",
      "mean square error: 121.79094558048995\n",
      "mean absolute error: 6.858141595712451\n",
      "SMAPE 19.39849082860476\n",
      "median absolute error: 4.988728198678789\n"
     ]
    }
   ],
   "source": [
    "y_dev_pred = lr.predict(standardize_x_dev, weights, bias_term)\n",
    "y_val_pred = lr.predict(standardize_x_val, weights, bias_term)\n",
    "\n",
    "print(\"training data metrics:\")\n",
    "r_square, mse, mae, smape, mape, med_ae = linear_regression_metrics(y_dev, y_dev_pred)\n",
    "print(\"r-square:\", r_square)\n",
    "print(\"mean square error:\", mse)\n",
    "print(\"mean absolute error:\", mae)\n",
    "print(\"SMAPE\", smape)\n",
    "print(\"median absolute error:\", med_ae)\n",
    "\n",
    "print(\"\\n\")\n",
    "\n",
    "print(\"test data metrics:\")\n",
    "r_square, mse, mae, smape, mape, med_ae = linear_regression_metrics(y_val, y_val_pred)\n",
    "print(\"r-square:\", r_square)\n",
    "print(\"mean square error:\", mse)\n",
    "print(\"mean absolute error:\", mae)\n",
    "print(\"SMAPE\", smape)\n",
    "print(\"median absolute error:\", med_ae)"
   ]
  },
  {
   "cell_type": "markdown",
   "metadata": {},
   "source": [
    "### Running Linear Regression when the preprocessing is normalization"
   ]
  },
  {
   "cell_type": "code",
   "execution_count": 46,
   "metadata": {},
   "outputs": [
    {
     "data": {
      "text/html": [
       "<div>\n",
       "<style scoped>\n",
       "    .dataframe tbody tr th:only-of-type {\n",
       "        vertical-align: middle;\n",
       "    }\n",
       "\n",
       "    .dataframe tbody tr th {\n",
       "        vertical-align: top;\n",
       "    }\n",
       "\n",
       "    .dataframe thead th {\n",
       "        text-align: right;\n",
       "    }\n",
       "</style>\n",
       "<table border=\"1\" class=\"dataframe\">\n",
       "  <thead>\n",
       "    <tr style=\"text-align: right;\">\n",
       "      <th></th>\n",
       "      <th>epochs</th>\n",
       "      <th>cost</th>\n",
       "    </tr>\n",
       "  </thead>\n",
       "  <tbody>\n",
       "    <tr>\n",
       "      <th>1995</th>\n",
       "      <td>1996</td>\n",
       "      <td>33.765792</td>\n",
       "    </tr>\n",
       "    <tr>\n",
       "      <th>1996</th>\n",
       "      <td>1997</td>\n",
       "      <td>33.765251</td>\n",
       "    </tr>\n",
       "    <tr>\n",
       "      <th>1997</th>\n",
       "      <td>1998</td>\n",
       "      <td>33.764711</td>\n",
       "    </tr>\n",
       "    <tr>\n",
       "      <th>1998</th>\n",
       "      <td>1999</td>\n",
       "      <td>33.764171</td>\n",
       "    </tr>\n",
       "    <tr>\n",
       "      <th>1999</th>\n",
       "      <td>2000</td>\n",
       "      <td>33.763633</td>\n",
       "    </tr>\n",
       "  </tbody>\n",
       "</table>\n",
       "</div>"
      ],
      "text/plain": [
       "      epochs       cost\n",
       "1995    1996  33.765792\n",
       "1996    1997  33.765251\n",
       "1997    1998  33.764711\n",
       "1998    1999  33.764171\n",
       "1999    2000  33.763633"
      ]
     },
     "execution_count": 46,
     "metadata": {},
     "output_type": "execute_result"
    }
   ],
   "source": [
    "np.random.seed(42)\n",
    "num_iterations = 2000\n",
    "learning_rate = 0.01\n",
    "\n",
    "rows, columns = normal_x_dev.shape\n",
    "weights = np.random.rand(columns)\n",
    "bias_term = np.random.rand()\n",
    "lr = MultipleLinearRegression(learning_rate, num_iterations, normal_x_dev, y_dev)\n",
    "\n",
    "cost_list = []\n",
    "for i in range(num_iterations):\n",
    "    y_pred = lr.forward_propagation(weights, bias_term)\n",
    "    #print(y_pred[0:5])\n",
    "    cost = lr.compute_cost(y_dev, y_pred)\n",
    "    cost_list.append(cost)\n",
    "    #print(f\"cost for iteration={i+1} is {cost}\")\n",
    "    weights, bias_term = lr.backward_propagation(y_pred, normal_x_dev, y_dev, weights, bias_term)\n",
    "\n",
    "\n",
    "df_cost = pd.DataFrame(data=cost_list, columns=[\"cost\"]).reset_index()\n",
    "df_cost.columns = [\"epochs\", \"cost\"]\n",
    "df_cost[\"epochs\"] = df_cost[\"epochs\"] + 1\n",
    "df_cost.tail()"
   ]
  },
  {
   "cell_type": "code",
   "execution_count": 47,
   "metadata": {},
   "outputs": [
    {
     "data": {
      "text/plain": [
       "<AxesSubplot:title={'center':'Epochs vs cost'}, xlabel='epochs'>"
      ]
     },
     "execution_count": 47,
     "metadata": {},
     "output_type": "execute_result"
    },
    {
     "data": {
      "image/png": "[encoded data removed]",
      "text/plain": [
       "<Figure size 720x720 with 1 Axes>"
      ]
     },
     "metadata": {
      "needs_background": "light"
     },
     "output_type": "display_data"
    }
   ],
   "source": [
    "df_cost.plot(x=\"epochs\",y=\"cost\",title=\"Epochs vs cost\",figsize=(10,10),colormap=\"summer\", marker=\".\")"
   ]
  },
  {
   "cell_type": "code",
   "execution_count": 48,
   "metadata": {},
   "outputs": [
    {
     "name": "stdout",
     "output_type": "stream",
     "text": [
      "training metrics:\n",
      "r-square: 0.6182995148120194\n",
      "mean square error: 67.52618913289257\n",
      "mean absolute error: 6.262262551576872\n",
      "SMAPE 17.652073923763727\n",
      "median absolute error: 5.438582431330641\n",
      "\n",
      "\n",
      "test data metrics:\n",
      "r-square: 0.3711107680331688\n",
      "mean square error: 131.1119564333952\n",
      "mean absolute error: 7.117895959098774\n",
      "SMAPE 19.051063829183978\n",
      "median absolute error: 5.899650787123399\n"
     ]
    }
   ],
   "source": [
    "y_dev_pred = lr.predict(normal_x_dev, weights, bias_term)\n",
    "y_val_pred = lr.predict(normal_x_val, weights, bias_term)\n",
    "\n",
    "print(\"training metrics:\")\n",
    "r_square, mse, mae, smape, mape, med_ae = linear_regression_metrics(y_dev, y_dev_pred)\n",
    "print(\"r-square:\", r_square)\n",
    "print(\"mean square error:\", mse)\n",
    "print(\"mean absolute error:\", mae)\n",
    "print(\"SMAPE\", smape)\n",
    "print(\"median absolute error:\", med_ae)\n",
    "\n",
    "print(\"\\n\")\n",
    "\n",
    "print(\"test data metrics:\")\n",
    "r_square, mse, mae, smape, mape, med_ae = linear_regression_metrics(y_val, y_val_pred)\n",
    "print(\"r-square:\", r_square)\n",
    "print(\"mean square error:\", mse)\n",
    "print(\"mean absolute error:\", mae)\n",
    "print(\"SMAPE\", smape)\n",
    "print(\"median absolute error:\", med_ae)"
   ]
  },
  {
   "cell_type": "code",
   "execution_count": null,
   "metadata": {},
   "outputs": [],
   "source": []
  }
 ],
 "metadata": {
  "kernelspec": {
   "display_name": "Python 3.7.11 ('py37')",
   "language": "python",
   "name": "python3"
  },
  "language_info": {
   "codemirror_mode": {
    "name": "ipython",
    "version": 3
   },
   "file_extension": ".py",
   "mimetype": "text/x-python",
   "name": "python",
   "nbconvert_exporter": "python",
   "pygments_lexer": "ipython3",
   "version": "3.7.11"
  },
  "orig_nbformat": 4,
  "vscode": {
   "interpreter": {
    "hash": "4d950d682cfc87c474937804b524b56bf64e5076d2381004fd329a91dec786a7"
   }
  }
 },
 "nbformat": 4,
 "nbformat_minor": 2
}
