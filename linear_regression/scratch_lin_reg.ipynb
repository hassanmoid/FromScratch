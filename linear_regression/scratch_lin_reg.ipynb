{
 "cells": [
  {
   "cell_type": "markdown",
   "metadata": {},
   "source": [
    "### Importing relevant libraries and modules"
   ]
  },
  {
   "cell_type": "code",
   "execution_count": 1,
   "metadata": {},
   "outputs": [],
   "source": [
    "import pandas as pd\n",
    "import numpy as np\n",
    "import os\n",
    "import matplotlib.pyplot as plt\n",
    "np.random.seed(0)\n",
    "\n",
    "from src.regression_module import MultipleLinearRegression\n",
    "from src.utils import utils"
   ]
  },
  {
   "cell_type": "markdown",
   "metadata": {},
   "source": [
    "### Data reading, preprocessing, splitting and normalizing/standardizing"
   ]
  },
  {
   "cell_type": "code",
   "execution_count": 7,
   "metadata": {},
   "outputs": [],
   "source": [
    "base_data_loc = \"../data/regression\""
   ]
  },
  {
   "cell_type": "code",
   "execution_count": 8,
   "metadata": {},
   "outputs": [],
   "source": [
    "# Function to retrieve the data location using name of data\n",
    "def generate_file_location(name,base_data_loc=base_data_loc):\n",
    "    return os.path.join(base_data_loc, name)"
   ]
  },
  {
   "cell_type": "code",
   "execution_count": 9,
   "metadata": {},
   "outputs": [
    {
     "name": "stdout",
     "output_type": "stream",
     "text": [
      "category_col_list is -  ['Species']\n",
      "target column for this data is:  Weight\n"
     ]
    }
   ],
   "source": [
    "#Global variables\n",
    "data_loc_dict = {'fish':generate_file_location(\"fish.csv\"), 'insurance':generate_file_location(\"insurance.csv\"),'real estate':generate_file_location(\"real_estate.csv\"), 'physical activity':generate_file_location(\"physical_activity_obesity.csv\")}\n",
    "data_name = \"fish\"\n",
    "category_col_list = \"Species\".split(\",\")\n",
    "print(\"category_col_list is - \", category_col_list)\n",
    "target_col_name = \"Weight\"\n",
    "print(f\"target column for this data is: \", target_col_name)"
   ]
  },
  {
   "cell_type": "markdown",
   "metadata": {},
   "source": [
    "#### Generating an object from utils module"
   ]
  },
  {
   "cell_type": "code",
   "execution_count": 10,
   "metadata": {},
   "outputs": [],
   "source": [
    "utils_obj = utils(data_name, data_loc_dict, category_col_list, target_col_name)"
   ]
  },
  {
   "cell_type": "markdown",
   "metadata": {},
   "source": [
    "#### Reading data"
   ]
  },
  {
   "cell_type": "code",
   "execution_count": 11,
   "metadata": {},
   "outputs": [
    {
     "name": "stdout",
     "output_type": "stream",
     "text": [
      "(159, 7)\n",
      "  Species  Weight  Length1  Length2  Length3   Height   Width\n",
      "0   Bream   242.0     23.2     25.4     30.0  11.5200  4.0200\n",
      "1   Bream   290.0     24.0     26.3     31.2  12.4800  4.3056\n",
      "2   Bream   340.0     23.9     26.5     31.1  12.3778  4.6961\n",
      "3   Bream   363.0     26.3     29.0     33.5  12.7300  4.4555\n",
      "4   Bream   430.0     26.5     29.0     34.0  12.4440  5.1340\n"
     ]
    }
   ],
   "source": [
    "df_inp = utils_obj.read_data()\n",
    "print(df_inp.shape)\n",
    "print(df_inp.head())"
   ]
  },
  {
   "cell_type": "markdown",
   "metadata": {},
   "source": [
    "#### dropping the category columns from input data for simplicity and moving the target column to last column of dataframe"
   ]
  },
  {
   "cell_type": "code",
   "execution_count": 12,
   "metadata": {},
   "outputs": [
    {
     "name": "stdout",
     "output_type": "stream",
     "text": [
      "DF after dropping ['Species'] categorical columns\n",
      "   Length1  Length2  Length3   Height   Width  Weight\n",
      "0     23.2     25.4     30.0  11.5200  4.0200   242.0\n",
      "1     24.0     26.3     31.2  12.4800  4.3056   290.0\n",
      "2     23.9     26.5     31.1  12.3778  4.6961   340.0\n",
      "3     26.3     29.0     33.5  12.7300  4.4555   363.0\n",
      "4     26.5     29.0     34.0  12.4440  5.1340   430.0\n"
     ]
    }
   ],
   "source": [
    "#\n",
    "df_final = utils_obj.drop_category_cols(df_inp)\n",
    "print(df_final.head())"
   ]
  },
  {
   "cell_type": "markdown",
   "metadata": {},
   "source": [
    "#### Splitting the data into development and validation and separating the X and y for development and validation data"
   ]
  },
  {
   "cell_type": "code",
   "execution_count": 14,
   "metadata": {},
   "outputs": [
    {
     "name": "stdout",
     "output_type": "stream",
     "text": [
      "dev data shape (117, 6)\n",
      "val data shape (42, 6)\n",
      "shape of dev data - independent variable - (117, 5), dependent variable - (117,)\n",
      "shape of val data - independent variable - (42, 5), dependent variable - (42,)\n"
     ]
    }
   ],
   "source": [
    "\n",
    "x_dev, y_dev, x_val, y_val = utils_obj.dev_val_split(df_final, 0.7)\n",
    "print(f\"shape of dev data - independent variable - {x_dev.shape}, dependent variable - {y_dev.shape}\")\n",
    "print(f\"shape of val data - independent variable - {x_val.shape}, dependent variable - {y_val.shape}\")\n"
   ]
  },
  {
   "cell_type": "markdown",
   "metadata": {},
   "source": [
    "#### Standardization (bringing the data on a scale of [0,1] using min-max scaling for smooth cost function curve)"
   ]
  },
  {
   "cell_type": "code",
   "execution_count": 18,
   "metadata": {},
   "outputs": [
    {
     "name": "stdout",
     "output_type": "stream",
     "text": [
      "Standardization preprocessing initiated:\n",
      "shape of dev data - independent variable - (117, 5), dependent variable - (117,)\n",
      "shape of val data - independent variable - (42, 5), dependent variable - (42,)\n",
      "checking the preprocessing of standardization\n",
      "For dev:\n",
      "[-4.87739004e-16 -8.54017711e-16 -2.75183485e-16  5.86425495e-16\n",
      "  2.01168616e-16]\n",
      "[1. 1. 1. 1. 1.]\n",
      "For val:\n",
      "[0.04197268 0.03769349 0.0591067  0.18696553 0.08134236]\n",
      "[1.26176425 1.2712215  1.27776777 1.18131311 1.29402903]\n",
      "\n",
      "\n"
     ]
    }
   ],
   "source": [
    "standardize_x_dev, standardize_x_val = utils_obj.preprocessing_dev_val(x_dev, x_val,\"standard\")\n",
    "print(f\"shape of dev data - independent variable - {standardize_x_dev.shape}, dependent variable - {y_dev.shape}\")\n",
    "print(f\"shape of val data - independent variable - {standardize_x_val.shape}, dependent variable - {y_val.shape}\")\n",
    "print(\"checking the preprocessing of standardization\")\n",
    "print(\"For dev:\")\n",
    "print(np.mean(standardize_x_dev,axis=0))\n",
    "print(np.std(standardize_x_dev,axis=0))\n",
    "print(\"For val:\")\n",
    "print(np.mean(standardize_x_val,axis=0))\n",
    "print(np.std(standardize_x_val,axis=0))\n",
    "print(\"\\n\")"
   ]
  },
  {
   "cell_type": "markdown",
   "metadata": {},
   "source": [
    "#### Normalization (Mean centering (mu~0) with unit standard deviation for smooth cost function curve)"
   ]
  },
  {
   "cell_type": "code",
   "execution_count": 19,
   "metadata": {},
   "outputs": [
    {
     "name": "stdout",
     "output_type": "stream",
     "text": [
      "Normaliztion preprocessing initiated:\n",
      "shape of dev data - independent variable - (117, 5), dependent variable - (117,)\n",
      "shape of val data - independent variable - (42, 5), dependent variable - (42,)\n",
      "checking the preprocessing of normalization\n",
      "For dev:\n",
      "[0. 0. 0. 0. 0.]\n",
      "[1. 1. 1. 1. 1.]\n",
      "For val:\n",
      "[-0.05434783 -0.04242424 -0.05343511 -0.01434207 -0.01441318]\n",
      "[1.06521739 1.06868687 1.07633588 0.94860171 0.9504833 ]\n"
     ]
    }
   ],
   "source": [
    "\n",
    "normal_x_dev, normal_x_val = utils_obj.preprocessing_dev_val(x_dev, x_val,\"normal\")\n",
    "print(f\"shape of dev data - independent variable - {normal_x_dev.shape}, dependent variable - {y_dev.shape}\")\n",
    "print(f\"shape of val data - independent variable - {normal_x_val.shape}, dependent variable - {y_val.shape}\")\n",
    "print(\"checking the preprocessing of normalization\")\n",
    "print(\"For dev:\")\n",
    "print(np.min(normal_x_dev,axis=0))\n",
    "print(np.max(normal_x_dev,axis=0))\n",
    "print(\"For val:\")\n",
    "print(np.min(normal_x_val,axis=0))\n",
    "print(np.max(normal_x_val,axis=0))\n"
   ]
  },
  {
   "cell_type": "markdown",
   "metadata": {},
   "source": [
    "### Running Linear Regression when the preprocessing is standardization"
   ]
  },
  {
   "cell_type": "markdown",
   "metadata": {},
   "source": [
    "#### Steps to minimize the cost function of linear regression model\n",
    "1. Initialize weights and bias_term as random\n",
    "2. Forward propagate the input to output(prediction) using linear function and weights, bias term from step 1.\n",
    "3. Compute cost using the prediction from step2.\n",
    "4. Using the predictions from step2 backward propagate the error using gradient descent updating weights and bias term.\n",
    "5. Repeat steps 2 top steps 4 for n number of iterations\n"
   ]
  },
  {
   "cell_type": "code",
   "execution_count": 22,
   "metadata": {},
   "outputs": [
    {
     "data": {
      "text/html": [
       "<div>\n",
       "<style scoped>\n",
       "    .dataframe tbody tr th:only-of-type {\n",
       "        vertical-align: middle;\n",
       "    }\n",
       "\n",
       "    .dataframe tbody tr th {\n",
       "        vertical-align: top;\n",
       "    }\n",
       "\n",
       "    .dataframe thead th {\n",
       "        text-align: right;\n",
       "    }\n",
       "</style>\n",
       "<table border=\"1\" class=\"dataframe\">\n",
       "  <thead>\n",
       "    <tr style=\"text-align: right;\">\n",
       "      <th></th>\n",
       "      <th>epochs</th>\n",
       "      <th>cost</th>\n",
       "    </tr>\n",
       "  </thead>\n",
       "  <tbody>\n",
       "    <tr>\n",
       "      <th>495</th>\n",
       "      <td>496</td>\n",
       "      <td>6166.329795</td>\n",
       "    </tr>\n",
       "    <tr>\n",
       "      <th>496</th>\n",
       "      <td>497</td>\n",
       "      <td>6166.267832</td>\n",
       "    </tr>\n",
       "    <tr>\n",
       "      <th>497</th>\n",
       "      <td>498</td>\n",
       "      <td>6166.206042</td>\n",
       "    </tr>\n",
       "    <tr>\n",
       "      <th>498</th>\n",
       "      <td>499</td>\n",
       "      <td>6166.144426</td>\n",
       "    </tr>\n",
       "    <tr>\n",
       "      <th>499</th>\n",
       "      <td>500</td>\n",
       "      <td>6166.082982</td>\n",
       "    </tr>\n",
       "  </tbody>\n",
       "</table>\n",
       "</div>"
      ],
      "text/plain": [
       "     epochs         cost\n",
       "495     496  6166.329795\n",
       "496     497  6166.267832\n",
       "497     498  6166.206042\n",
       "498     499  6166.144426\n",
       "499     500  6166.082982"
      ]
     },
     "execution_count": 22,
     "metadata": {},
     "output_type": "execute_result"
    }
   ],
   "source": [
    "np.random.seed(42)\n",
    "num_iterations = 500\n",
    "learning_rate = 0.01\n",
    "\n",
    "rows, columns = standardize_x_dev.shape\n",
    "weights = np.random.rand(columns)\n",
    "bias_term = np.random.rand()\n",
    "lr = MultipleLinearRegression(learning_rate, num_iterations, standardize_x_dev, y_dev)\n",
    "\n",
    "cost_list = []\n",
    "for i in range(num_iterations):\n",
    "    y_pred = lr.forward_propagation(weights, bias_term)\n",
    "    cost = lr.compute_cost(y_dev, y_pred)\n",
    "    cost_list.append(cost)\n",
    "    weights, bias_term = lr.backward_propagation(y_pred, standardize_x_dev, y_dev, weights, bias_term)\n",
    "\n",
    "\n",
    "df_cost = pd.DataFrame(data=cost_list, columns=[\"cost\"]).reset_index()\n",
    "df_cost.columns = [\"epochs\", \"cost\"]\n",
    "df_cost[\"epochs\"] = df_cost[\"epochs\"] + 1\n",
    "df_cost.tail()"
   ]
  },
  {
   "cell_type": "markdown",
   "metadata": {},
   "source": [
    "#### Plotting the cost as it goes down with increase in iterations"
   ]
  },
  {
   "cell_type": "code",
   "execution_count": 23,
   "metadata": {},
   "outputs": [
    {
     "data": {
      "text/plain": [
       "<AxesSubplot:title={'center':'Epochs vs cost'}, xlabel='epochs'>"
      ]
     },
     "execution_count": 23,
     "metadata": {},
     "output_type": "execute_result"
    },
    {
     "data": {
      "image/png": "[encoded data removed]",
      "text/plain": [
       "<Figure size 720x720 with 1 Axes>"
      ]
     },
     "metadata": {
      "needs_background": "light"
     },
     "output_type": "display_data"
    }
   ],
   "source": [
    "df_cost.plot(x=\"epochs\",y=\"cost\",title=\"Epochs vs cost\",figsize=(10,10),colormap=\"summer\", marker=\".\")"
   ]
  },
  {
   "cell_type": "markdown",
   "metadata": {},
   "source": [
    "#### Printing the peformance of the linear regression model using metrics such as:\n",
    "1. r_square\n",
    "2. mean square error\n",
    "3. mean absolute error\n",
    "4. symmetric mean absolute percentage error\n",
    "5. median absolute error"
   ]
  },
  {
   "cell_type": "code",
   "execution_count": 24,
   "metadata": {},
   "outputs": [
    {
     "name": "stdout",
     "output_type": "stream",
     "text": [
      "training data metrics:\n",
      "r-square: 0.8907926747081903\n",
      "mean square error: 12332.043419783975\n",
      "mean absolute error: 82.01675167499809\n",
      "SMAPE 40.97045338807335\n",
      "median absolute error: 63.0290544919103\n",
      "\n",
      "\n",
      "test data metrics:\n",
      "r-square: 0.8341017422978775\n",
      "mean square error: 26987.076536166056\n",
      "mean absolute error: 120.67024880566785\n",
      "SMAPE 56.05760983883915\n",
      "median absolute error: 88.34701344695168\n"
     ]
    }
   ],
   "source": [
    "y_dev_pred = lr.predict(standardize_x_dev, weights, bias_term)\n",
    "y_val_pred = lr.predict(standardize_x_val, weights, bias_term)\n",
    "\n",
    "print(\"training data metrics:\")\n",
    "r_square, mse, mae, smape, med_ae = utils_obj.linear_regression_metrics(y_dev, y_dev_pred)\n",
    "print(\"r-square:\", r_square)\n",
    "print(\"mean square error:\", mse)\n",
    "print(\"mean absolute error:\", mae)\n",
    "print(\"SMAPE\", smape)\n",
    "print(\"median absolute error:\", med_ae)\n",
    "\n",
    "print(\"\\n\")\n",
    "\n",
    "print(\"test data metrics:\")\n",
    "r_square, mse, mae, smape, med_ae = utils_obj.linear_regression_metrics(y_val, y_val_pred)\n",
    "print(\"r-square:\", r_square)\n",
    "print(\"mean square error:\", mse)\n",
    "print(\"mean absolute error:\", mae)\n",
    "print(\"SMAPE\", smape)\n",
    "print(\"median absolute error:\", med_ae)"
   ]
  },
  {
   "cell_type": "markdown",
   "metadata": {},
   "source": [
    "### Running Linear Regression when the preprocessing is normalization"
   ]
  },
  {
   "cell_type": "markdown",
   "metadata": {},
   "source": [
    "#### Steps to minimize the cost function of linear regression model\n",
    "1. Initialize weights and bias_term as random\n",
    "2. Forward propagate the input to output(prediction) using linear function and weights, bias term from step 1.\n",
    "3. Compute cost using the prediction from step2.\n",
    "4. Using the predictions from step2 backward propagate the error using gradient descent updating weights and bias term.\n",
    "5. Repeat steps 2 top steps 4 for n number of iterations\n"
   ]
  },
  {
   "cell_type": "code",
   "execution_count": 26,
   "metadata": {},
   "outputs": [
    {
     "data": {
      "text/html": [
       "<div>\n",
       "<style scoped>\n",
       "    .dataframe tbody tr th:only-of-type {\n",
       "        vertical-align: middle;\n",
       "    }\n",
       "\n",
       "    .dataframe tbody tr th {\n",
       "        vertical-align: top;\n",
       "    }\n",
       "\n",
       "    .dataframe thead th {\n",
       "        text-align: right;\n",
       "    }\n",
       "</style>\n",
       "<table border=\"1\" class=\"dataframe\">\n",
       "  <thead>\n",
       "    <tr style=\"text-align: right;\">\n",
       "      <th></th>\n",
       "      <th>epochs</th>\n",
       "      <th>cost</th>\n",
       "    </tr>\n",
       "  </thead>\n",
       "  <tbody>\n",
       "    <tr>\n",
       "      <th>1995</th>\n",
       "      <td>1996</td>\n",
       "      <td>6228.344390</td>\n",
       "    </tr>\n",
       "    <tr>\n",
       "      <th>1996</th>\n",
       "      <td>1997</td>\n",
       "      <td>6228.306705</td>\n",
       "    </tr>\n",
       "    <tr>\n",
       "      <th>1997</th>\n",
       "      <td>1998</td>\n",
       "      <td>6228.269123</td>\n",
       "    </tr>\n",
       "    <tr>\n",
       "      <th>1998</th>\n",
       "      <td>1999</td>\n",
       "      <td>6228.231642</td>\n",
       "    </tr>\n",
       "    <tr>\n",
       "      <th>1999</th>\n",
       "      <td>2000</td>\n",
       "      <td>6228.194262</td>\n",
       "    </tr>\n",
       "  </tbody>\n",
       "</table>\n",
       "</div>"
      ],
      "text/plain": [
       "      epochs         cost\n",
       "1995    1996  6228.344390\n",
       "1996    1997  6228.306705\n",
       "1997    1998  6228.269123\n",
       "1998    1999  6228.231642\n",
       "1999    2000  6228.194262"
      ]
     },
     "execution_count": 26,
     "metadata": {},
     "output_type": "execute_result"
    }
   ],
   "source": [
    "np.random.seed(42)\n",
    "num_iterations = 2000\n",
    "learning_rate = 0.01\n",
    "\n",
    "rows, columns = normal_x_dev.shape\n",
    "weights = np.random.rand(columns)\n",
    "bias_term = np.random.rand()\n",
    "lr = MultipleLinearRegression(learning_rate, num_iterations, normal_x_dev, y_dev)\n",
    "\n",
    "cost_list = []\n",
    "for i in range(num_iterations):\n",
    "    y_pred = lr.forward_propagation(weights, bias_term)\n",
    "    cost = lr.compute_cost(y_dev, y_pred)\n",
    "    cost_list.append(cost)\n",
    "    weights, bias_term = lr.backward_propagation(y_pred, normal_x_dev, y_dev, weights, bias_term)\n",
    "\n",
    "\n",
    "df_cost = pd.DataFrame(data=cost_list, columns=[\"cost\"]).reset_index()\n",
    "df_cost.columns = [\"epochs\", \"cost\"]\n",
    "df_cost[\"epochs\"] = df_cost[\"epochs\"] + 1\n",
    "df_cost.tail()"
   ]
  },
  {
   "cell_type": "markdown",
   "metadata": {},
   "source": [
    "#### Plotting the cost as it goes down with increase in iterations"
   ]
  },
  {
   "cell_type": "code",
   "execution_count": 27,
   "metadata": {},
   "outputs": [
    {
     "data": {
      "text/plain": [
       "<AxesSubplot:title={'center':'Epochs vs cost'}, xlabel='epochs'>"
      ]
     },
     "execution_count": 27,
     "metadata": {},
     "output_type": "execute_result"
    },
    {
     "data": {
      "image/png": "[encoded data removed]",
      "text/plain": [
       "<Figure size 720x720 with 1 Axes>"
      ]
     },
     "metadata": {
      "needs_background": "light"
     },
     "output_type": "display_data"
    }
   ],
   "source": [
    "df_cost.plot(x=\"epochs\",y=\"cost\",title=\"Epochs vs cost\",figsize=(10,10),colormap=\"summer\", marker=\".\")"
   ]
  },
  {
   "cell_type": "markdown",
   "metadata": {},
   "source": [
    "#### Printing the peformance of the linear regression model using metrics such as:\n",
    "1. r_square\n",
    "2. mean square error\n",
    "3. mean absolute error\n",
    "4. symmetric mean absolute percentage error\n",
    "5. median absolute error"
   ]
  },
  {
   "cell_type": "code",
   "execution_count": 28,
   "metadata": {},
   "outputs": [
    {
     "name": "stdout",
     "output_type": "stream",
     "text": [
      "training metrics:\n",
      "r-square: 0.8896921876731517\n",
      "mean square error: 12456.31396539749\n",
      "mean absolute error: 83.00500973475987\n",
      "SMAPE 40.96754761712774\n",
      "median absolute error: 65.61045427373574\n",
      "\n",
      "\n",
      "test data metrics:\n",
      "r-square: 0.8395942625528838\n",
      "mean square error: 26093.594792889122\n",
      "mean absolute error: 120.68755623701388\n",
      "SMAPE 56.51114782376933\n",
      "median absolute error: 85.71668230967504\n"
     ]
    }
   ],
   "source": [
    "y_dev_pred = lr.predict(normal_x_dev, weights, bias_term)\n",
    "y_val_pred = lr.predict(normal_x_val, weights, bias_term)\n",
    "\n",
    "print(\"training metrics:\")\n",
    "r_square, mse, mae, smape, med_ae = utils_obj.linear_regression_metrics(y_dev, y_dev_pred)\n",
    "print(\"r-square:\", r_square)\n",
    "print(\"mean square error:\", mse)\n",
    "print(\"mean absolute error:\", mae)\n",
    "print(\"SMAPE\", smape)\n",
    "print(\"median absolute error:\", med_ae)\n",
    "\n",
    "print(\"\\n\")\n",
    "\n",
    "print(\"test data metrics:\")\n",
    "r_square, mse, mae, smape, med_ae = utils_obj.linear_regression_metrics(y_val, y_val_pred)\n",
    "print(\"r-square:\", r_square)\n",
    "print(\"mean square error:\", mse)\n",
    "print(\"mean absolute error:\", mae)\n",
    "print(\"SMAPE\", smape)\n",
    "print(\"median absolute error:\", med_ae)"
   ]
  }
 ],
 "metadata": {
  "kernelspec": {
   "display_name": "Python 3.7.11 ('py37')",
   "language": "python",
   "name": "python3"
  },
  "language_info": {
   "codemirror_mode": {
    "name": "ipython",
    "version": 3
   },
   "file_extension": ".py",
   "mimetype": "text/x-python",
   "name": "python",
   "nbconvert_exporter": "python",
   "pygments_lexer": "ipython3",
   "version": "3.7.11"
  },
  "orig_nbformat": 4,
  "vscode": {
   "interpreter": {
    "hash": "4d950d682cfc87c474937804b524b56bf64e5076d2381004fd329a91dec786a7"
   }
  }
 },
 "nbformat": 4,
 "nbformat_minor": 2
}
