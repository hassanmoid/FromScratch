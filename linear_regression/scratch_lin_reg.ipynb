{
 "cells": [
  {
   "cell_type": "code",
   "execution_count": 121,
   "metadata": {},
   "outputs": [],
   "source": [
    "import pandas as pd\n",
    "import numpy as np\n",
    "import sys\n",
    "import os\n",
    "np.random.seed(0)"
   ]
  },
  {
   "cell_type": "code",
   "execution_count": 122,
   "metadata": {},
   "outputs": [],
   "source": [
    "#Global variables\n",
    "base_data_loc = \"../data/regression\"\n",
    "data_name = \"fish\"\n",
    "category_col_list = \"Species\"\n",
    "target_col_name = \"Weight\""
   ]
  },
  {
   "cell_type": "code",
   "execution_count": 123,
   "metadata": {},
   "outputs": [],
   "source": [
    "def read_data(file_loc):\n",
    "    df = pd.read_csv(file_loc)\n",
    "    return df\n",
    "\n",
    "def generate_file_location(name,base_data_loc=base_data_loc):\n",
    "    return os.path.join(base_data_loc, name)"
   ]
  },
  {
   "cell_type": "code",
   "execution_count": 124,
   "metadata": {},
   "outputs": [
    {
     "name": "stdout",
     "output_type": "stream",
     "text": [
      "(159, 7)\n",
      "  Species  Weight  Length1  Length2  Length3   Height   Width\n",
      "0   Bream   242.0     23.2     25.4     30.0  11.5200  4.0200\n",
      "1   Bream   290.0     24.0     26.3     31.2  12.4800  4.3056\n",
      "2   Bream   340.0     23.9     26.5     31.1  12.3778  4.6961\n",
      "3   Bream   363.0     26.3     29.0     33.5  12.7300  4.4555\n",
      "4   Bream   430.0     26.5     29.0     34.0  12.4440  5.1340\n"
     ]
    }
   ],
   "source": [
    "data_loc_dict = {'fish':generate_file_location(\"fish.csv\"), 'insurance':generate_file_location(\"insurance.csv\"),'real estate':generate_file_location(\"real_estate.csv\"), 'physical activity':generate_file_location(\"physical_activity_obesity.csv\")}\n",
    "\n",
    "df_inp = read_data(data_loc_dict[data_name])\n",
    "print(df_inp.shape)\n",
    "print(df_inp.head())"
   ]
  },
  {
   "cell_type": "code",
   "execution_count": 125,
   "metadata": {},
   "outputs": [
    {
     "name": "stdout",
     "output_type": "stream",
     "text": [
      "DF after dropping categorical columns\n",
      "   Weight  Length1  Length2  Length3   Height   Width\n",
      "0   242.0     23.2     25.4     30.0  11.5200  4.0200\n",
      "1   290.0     24.0     26.3     31.2  12.4800  4.3056\n",
      "2   340.0     23.9     26.5     31.1  12.3778  4.6961\n",
      "3   363.0     26.3     29.0     33.5  12.7300  4.4555\n",
      "4   430.0     26.5     29.0     34.0  12.4440  5.1340\n",
      "   Length1  Length2  Length3   Height   Width  Weight\n",
      "0     23.2     25.4     30.0  11.5200  4.0200   242.0\n",
      "1     24.0     26.3     31.2  12.4800  4.3056   290.0\n",
      "2     23.9     26.5     31.1  12.3778  4.6961   340.0\n",
      "3     26.3     29.0     33.5  12.7300  4.4555   363.0\n",
      "4     26.5     29.0     34.0  12.4440  5.1340   430.0\n"
     ]
    }
   ],
   "source": [
    "\n",
    "#dropping the category columns from input data for simplicity\n",
    "df_inp.drop(category_col_list,axis=1,inplace=True)\n",
    "\n",
    "print(\"DF after dropping categorical columns\")\n",
    "print(df_inp.head())\n",
    "\n",
    "df_target = df_inp[target_col_name]\n",
    "df_inp.drop([target_col_name],axis=1,inplace=True)\n",
    "df_inp[target_col_name] = df_target\n",
    "print(df_inp.head())\n"
   ]
  },
  {
   "cell_type": "code",
   "execution_count": 126,
   "metadata": {},
   "outputs": [
    {
     "data": {
      "text/html": [
       "<div>\n",
       "<style scoped>\n",
       "    .dataframe tbody tr th:only-of-type {\n",
       "        vertical-align: middle;\n",
       "    }\n",
       "\n",
       "    .dataframe tbody tr th {\n",
       "        vertical-align: top;\n",
       "    }\n",
       "\n",
       "    .dataframe thead th {\n",
       "        text-align: right;\n",
       "    }\n",
       "</style>\n",
       "<table border=\"1\" class=\"dataframe\">\n",
       "  <thead>\n",
       "    <tr style=\"text-align: right;\">\n",
       "      <th></th>\n",
       "      <th>Length1</th>\n",
       "      <th>Length2</th>\n",
       "      <th>Length3</th>\n",
       "      <th>Height</th>\n",
       "      <th>Width</th>\n",
       "      <th>Weight</th>\n",
       "    </tr>\n",
       "  </thead>\n",
       "  <tbody>\n",
       "    <tr>\n",
       "      <th>5</th>\n",
       "      <td>26.8</td>\n",
       "      <td>29.7</td>\n",
       "      <td>34.7</td>\n",
       "      <td>13.6024</td>\n",
       "      <td>4.9274</td>\n",
       "      <td>450.0</td>\n",
       "    </tr>\n",
       "    <tr>\n",
       "      <th>8</th>\n",
       "      <td>27.6</td>\n",
       "      <td>30.0</td>\n",
       "      <td>35.1</td>\n",
       "      <td>14.0049</td>\n",
       "      <td>4.8438</td>\n",
       "      <td>450.0</td>\n",
       "    </tr>\n",
       "  </tbody>\n",
       "</table>\n",
       "</div>"
      ],
      "text/plain": [
       "   Length1  Length2  Length3   Height   Width  Weight\n",
       "5     26.8     29.7     34.7  13.6024  4.9274   450.0\n",
       "8     27.6     30.0     35.1  14.0049  4.8438   450.0"
      ]
     },
     "execution_count": 126,
     "metadata": {},
     "output_type": "execute_result"
    }
   ],
   "source": [
    "df_inp[df_inp[target_col_name]==450]"
   ]
  },
  {
   "cell_type": "code",
   "execution_count": 129,
   "metadata": {},
   "outputs": [
    {
     "name": "stdout",
     "output_type": "stream",
     "text": [
      "[[ 23.2     25.4     30.      11.52     4.02   242.    ]\n",
      " [ 24.      26.3     31.2     12.48     4.3056 290.    ]]\n"
     ]
    }
   ],
   "source": [
    "dev = []\n",
    "val = []\n",
    "np.random.seed(0)\n",
    "inp_values = df_inp.values\n",
    "for  i in range(len(inp_values)):\n",
    "    if np.random.rand() < 0.75:\n",
    "        dev.append(inp_values[i])\n",
    "    else:\n",
    "        val.append(inp_values[i])\n",
    "dev = np.array(dev)\n",
    "val = np.array(val)\n",
    "\n",
    "print(dev[0:2])\n"
   ]
  },
  {
   "cell_type": "code",
   "execution_count": 130,
   "metadata": {},
   "outputs": [
    {
     "name": "stdout",
     "output_type": "stream",
     "text": [
      "dev data shape (124, 6)\n",
      "val data shape (35, 6)\n"
     ]
    }
   ],
   "source": [
    "print(f\"dev data shape {dev.shape}\")\n",
    "print(f\"val data shape {val.shape}\")"
   ]
  },
  {
   "cell_type": "code",
   "execution_count": 131,
   "metadata": {},
   "outputs": [],
   "source": [
    "x_dev, y_dev = dev[:,0:-1], dev[:,-1]\n",
    "x_val, y_val = val[:,0:-1], val[:,-1]"
   ]
  },
  {
   "cell_type": "code",
   "execution_count": 132,
   "metadata": {},
   "outputs": [
    {
     "name": "stdout",
     "output_type": "stream",
     "text": [
      "shape of dev data - independent variable - (124, 5), dependent variable - (124,)\n",
      "shape of val data - independent variable - (35, 5), dependent variable - (35,)\n"
     ]
    }
   ],
   "source": [
    "print(f\"shape of dev data - independent variable - {x_dev.shape}, dependent variable - {y_dev.shape}\")\n",
    "print(f\"shape of val data - independent variable - {x_val.shape}, dependent variable - {y_val.shape}\")\n",
    "\n",
    "print(x_val[0:2])\n",
    "print(y_val[0:2])"
   ]
  },
  {
   "cell_type": "code",
   "execution_count": 133,
   "metadata": {},
   "outputs": [
    {
     "name": "stdout",
     "output_type": "stream",
     "text": [
      "[[27.6    30.     35.     12.67    4.69  ]\n",
      " [27.6    30.     35.1    14.0049  4.8438]]\n",
      "[390. 450.]\n"
     ]
    }
   ],
   "source": []
  },
  {
   "cell_type": "code",
   "execution_count": 160,
   "metadata": {},
   "outputs": [],
   "source": [
    "def forward_propagation(dev_x, weights, bias_term):\n",
    "    \n",
    "    y_prediction = dev_x.dot(weights) + bias_term\n",
    "    return y_prediction\n"
   ]
  },
  {
   "cell_type": "code",
   "execution_count": 143,
   "metadata": {},
   "outputs": [],
   "source": [
    "def compute_cost(dev_y, pred_y):\n",
    "    \n",
    "    return (1/2*dev_y.shape[0])*(np.sum(pred_y - dev_y) ** 2)"
   ]
  },
  {
   "cell_type": "code",
   "execution_count": 163,
   "metadata": {},
   "outputs": [],
   "source": [
    "def backward_propagation(pred_y, dev_x, dev_y, weights, bias_term, learning_rate):\n",
    "    \n",
    "    dW = -(2/dev_x.shape[0]) * (dev_x.T).dot(dev_y - pred_y)\n",
    "    db = -(2/x_dev.shape[0]) * np.sum((dev_y - pred_y))\n",
    "\n",
    "    weights = weights - learning_rate * dW\n",
    "    bias_term = bias_term - learning_rate * db\n",
    "\n",
    "    return weights, bias_term"
   ]
  },
  {
   "cell_type": "code",
   "execution_count": 164,
   "metadata": {},
   "outputs": [
    {
     "name": "stdout",
     "output_type": "stream",
     "text": [
      "old weights [0.5488135  0.71518937 0.60276338 0.54488318 0.4236548 ]\n",
      "old bias term 0.6458941130666561\n",
      "cost for iteration = 1 is 91293977784.52332\n",
      "cost for iteration = 2 is 383756058894841.2\n",
      "cost for iteration = 3 is 1.1493621781598611e+18\n",
      "cost for iteration = 4 is 3.46213319801594e+21\n",
      "cost for iteration = 5 is 1.0427620370548997e+25\n",
      "cost for iteration = 6 is 3.140707414753762e+28\n",
      "cost for iteration = 7 is 9.459533787697945e+31\n",
      "cost for iteration = 8 is 2.849128165104917e+35\n",
      "cost for iteration = 9 is 8.581322804361942e+38\n",
      "cost for iteration = 10 is 2.5846187607346908e+42\n",
      "cost for iteration = 11 is 7.784643802172421e+45\n",
      "cost for iteration = 12 is 2.3446660701896124e+49\n",
      "cost for iteration = 13 is 7.061927456673415e+52\n",
      "cost for iteration = 14 is 2.12699027965568e+56\n",
      "cost for iteration = 15 is 6.406307169687158e+59\n",
      "cost for iteration = 16 is 1.9295232303096745e+63\n",
      "cost for iteration = 17 is 5.8115538292031235e+66\n",
      "cost for iteration = 18 is 1.7503887685407627e+70\n",
      "cost for iteration = 19 is 5.2720166259799836e+73\n",
      "cost for iteration = 20 is 1.5878849204328682e+77\n"
     ]
    }
   ],
   "source": [
    "#initializing weights for all the columns in dev data and bias\n",
    "np.random.seed(0)\n",
    "rows, columns = x_dev.shape\n",
    "weights = np.random.rand(columns)\n",
    "bias_term = np.random.rand()\n",
    "print(f\"old weights {weights}\")\n",
    "print(f\"old bias term {bias_term}\")\n",
    "\n",
    "\n",
    "for i in range(20):\n",
    "    y_pred = forward_propagation(x_dev, weights, bias_term)\n",
    "\n",
    "    cost = compute_cost(y_dev, y_pred)\n",
    "    print(f\"cost for iteration = {i+1} is {cost}\")\n",
    "\n",
    "    weights, bias_term = backward_propagation(y_pred, x_dev, y_dev, weights, bias_term, 0.01)"
   ]
  },
  {
   "cell_type": "code",
   "execution_count": null,
   "metadata": {},
   "outputs": [],
   "source": []
  }
 ],
 "metadata": {
  "kernelspec": {
   "display_name": "Python 3.7.11 ('py37')",
   "language": "python",
   "name": "python3"
  },
  "language_info": {
   "codemirror_mode": {
    "name": "ipython",
    "version": 3
   },
   "file_extension": ".py",
   "mimetype": "text/x-python",
   "name": "python",
   "nbconvert_exporter": "python",
   "pygments_lexer": "ipython3",
   "version": "3.7.11"
  },
  "orig_nbformat": 4,
  "vscode": {
   "interpreter": {
    "hash": "4d950d682cfc87c474937804b524b56bf64e5076d2381004fd329a91dec786a7"
   }
  }
 },
 "nbformat": 4,
 "nbformat_minor": 2
}
