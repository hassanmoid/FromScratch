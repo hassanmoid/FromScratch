{
 "cells": [
  {
   "cell_type": "code",
   "execution_count": 165,
   "metadata": {},
   "outputs": [],
   "source": [
    "import pandas as pd\n",
    "import numpy as np\n",
    "import sys\n",
    "import os\n",
    "np.random.seed(0)"
   ]
  },
  {
   "cell_type": "code",
   "execution_count": 166,
   "metadata": {},
   "outputs": [],
   "source": [
    "#Global variables\n",
    "base_data_loc = \"../data/regression\"\n",
    "data_name = \"fish\"\n",
    "category_col_list = \"Species\"\n",
    "target_col_name = \"Weight\""
   ]
  },
  {
   "cell_type": "code",
   "execution_count": 167,
   "metadata": {},
   "outputs": [],
   "source": [
    "def read_data(file_loc):\n",
    "    df = pd.read_csv(file_loc)\n",
    "    return df\n",
    "\n",
    "def generate_file_location(name,base_data_loc=base_data_loc):\n",
    "    return os.path.join(base_data_loc, name)"
   ]
  },
  {
   "cell_type": "code",
   "execution_count": 168,
   "metadata": {},
   "outputs": [
    {
     "name": "stdout",
     "output_type": "stream",
     "text": [
      "(159, 7)\n",
      "  Species  Weight  Length1  Length2  Length3   Height   Width\n",
      "0   Bream   242.0     23.2     25.4     30.0  11.5200  4.0200\n",
      "1   Bream   290.0     24.0     26.3     31.2  12.4800  4.3056\n",
      "2   Bream   340.0     23.9     26.5     31.1  12.3778  4.6961\n",
      "3   Bream   363.0     26.3     29.0     33.5  12.7300  4.4555\n",
      "4   Bream   430.0     26.5     29.0     34.0  12.4440  5.1340\n"
     ]
    }
   ],
   "source": [
    "data_loc_dict = {'fish':generate_file_location(\"fish.csv\"), 'insurance':generate_file_location(\"insurance.csv\"),'real estate':generate_file_location(\"real_estate.csv\"), 'physical activity':generate_file_location(\"physical_activity_obesity.csv\")}\n",
    "\n",
    "df_inp = read_data(data_loc_dict[data_name])\n",
    "print(df_inp.shape)\n",
    "print(df_inp.head())"
   ]
  },
  {
   "cell_type": "code",
   "execution_count": 169,
   "metadata": {},
   "outputs": [
    {
     "name": "stdout",
     "output_type": "stream",
     "text": [
      "DF after dropping categorical columns\n",
      "   Weight  Length1  Length2  Length3   Height   Width\n",
      "0   242.0     23.2     25.4     30.0  11.5200  4.0200\n",
      "1   290.0     24.0     26.3     31.2  12.4800  4.3056\n",
      "2   340.0     23.9     26.5     31.1  12.3778  4.6961\n",
      "3   363.0     26.3     29.0     33.5  12.7300  4.4555\n",
      "4   430.0     26.5     29.0     34.0  12.4440  5.1340\n",
      "   Length1  Length2  Length3   Height   Width  Weight\n",
      "0     23.2     25.4     30.0  11.5200  4.0200   242.0\n",
      "1     24.0     26.3     31.2  12.4800  4.3056   290.0\n",
      "2     23.9     26.5     31.1  12.3778  4.6961   340.0\n",
      "3     26.3     29.0     33.5  12.7300  4.4555   363.0\n",
      "4     26.5     29.0     34.0  12.4440  5.1340   430.0\n"
     ]
    }
   ],
   "source": [
    "\n",
    "#dropping the category columns from input data for simplicity\n",
    "df_inp.drop(category_col_list,axis=1,inplace=True)\n",
    "\n",
    "print(\"DF after dropping categorical columns\")\n",
    "print(df_inp.head())\n",
    "\n",
    "df_target = df_inp[target_col_name]\n",
    "df_inp.drop([target_col_name],axis=1,inplace=True)\n",
    "df_inp[target_col_name] = df_target\n",
    "print(df_inp.head())\n"
   ]
  },
  {
   "cell_type": "code",
   "execution_count": 170,
   "metadata": {},
   "outputs": [
    {
     "name": "stdout",
     "output_type": "stream",
     "text": [
      "[[ 23.2     25.4     30.      11.52     4.02   242.    ]\n",
      " [ 24.      26.3     31.2     12.48     4.3056 290.    ]]\n",
      "dev data shape (124, 6)\n",
      "val data shape (35, 6)\n"
     ]
    }
   ],
   "source": [
    "dev = []\n",
    "val = []\n",
    "np.random.seed(0)\n",
    "inp_values = df_inp.values\n",
    "for  i in range(len(inp_values)):\n",
    "    if np.random.rand() < 0.75:\n",
    "        dev.append(inp_values[i])\n",
    "    else:\n",
    "        val.append(inp_values[i])\n",
    "dev = np.array(dev)\n",
    "val = np.array(val)\n",
    "\n",
    "print(dev[0:2])\n",
    "\n",
    "print(f\"dev data shape {dev.shape}\")\n",
    "print(f\"val data shape {val.shape}\")\n"
   ]
  },
  {
   "cell_type": "code",
   "execution_count": 171,
   "metadata": {},
   "outputs": [
    {
     "name": "stdout",
     "output_type": "stream",
     "text": [
      "shape of dev data - independent variable - (124, 5), dependent variable - (124,)\n",
      "shape of val data - independent variable - (35, 5), dependent variable - (35,)\n",
      "[[27.6    30.     35.     12.67    4.69  ]\n",
      " [27.6    30.     35.1    14.0049  4.8438]]\n",
      "[390. 450.]\n"
     ]
    }
   ],
   "source": [
    "x_dev, y_dev = dev[:,0:-1], dev[:,-1]\n",
    "x_val, y_val = val[:,0:-1], val[:,-1]\n",
    "\n",
    "print(f\"shape of dev data - independent variable - {x_dev.shape}, dependent variable - {y_dev.shape}\")\n",
    "print(f\"shape of val data - independent variable - {x_val.shape}, dependent variable - {y_val.shape}\")\n",
    "\n",
    "print(x_val[0:2])\n",
    "print(y_val[0:2])"
   ]
  },
  {
   "cell_type": "code",
   "execution_count": 172,
   "metadata": {},
   "outputs": [],
   "source": [
    "def forward_propagation(dev_x, weights, bias_term):\n",
    "    \n",
    "    y_prediction = dev_x.dot(weights) + bias_term\n",
    "    return y_prediction\n"
   ]
  },
  {
   "cell_type": "code",
   "execution_count": 186,
   "metadata": {},
   "outputs": [],
   "source": [
    "def compute_cost(dev_y, pred_y):\n",
    "    \n",
    "    return (1/2*dev_y.shape[0])*(np.sum(pred_y - dev_y) ** 2)"
   ]
  },
  {
   "cell_type": "code",
   "execution_count": 179,
   "metadata": {},
   "outputs": [],
   "source": [
    "def backward_propagation(pred_y, dev_x, dev_y, weights, bias_term, learning_rate):\n",
    "    \n",
    "    dW = -(2/dev_x.shape[0]) * (dev_x.T).dot(dev_y - pred_y)\n",
    "    db = -(2/x_dev.shape[0]) * np.sum((dev_y - pred_y))\n",
    "\n",
    "    updated_weights = weights - learning_rate * dW\n",
    "    updated_bias_term = bias_term - learning_rate * db\n",
    "\n",
    "    return updated_weights, updated_bias_term"
   ]
  },
  {
   "cell_type": "code",
   "execution_count": 190,
   "metadata": {},
   "outputs": [
    {
     "name": "stdout",
     "output_type": "stream",
     "text": [
      "weights [0.5488135  0.71518937 0.60276338 0.54488318 0.4236548 ]\n",
      "bias term 0.6458941130666561\n",
      "cost for iteration = 1 is 91293977784.52332\n",
      "\n",
      "weights [21.75445873 23.64781818 25.72307857  7.88114139  4.01169731]\n",
      "bias term 1.2648127078891627\n",
      "cost for iteration = 2 is 2846087857704.0107\n",
      "\n",
      "weights [-75.68890252 -81.7842143  -89.70548362 -24.10313163 -12.11785241]\n",
      "bias term -2.1908919389505863\n",
      "cost for iteration = 3 is 55345073759685.92\n",
      "\n",
      "weights [371.24784704 401.73844298 439.71378414 124.28717405  62.21382971]\n",
      "bias term 13.047949528847418\n",
      "cost for iteration = 4 is 1185678290652678.8\n",
      "\n",
      "weights [-1679.47189507 -1816.90918866 -1989.48885863  -554.92797357\n",
      "  -278.50338769]\n",
      "bias term -57.48562598761338\n",
      "cost for iteration = 5 is 2.4864169853359332e+16\n",
      "\n"
     ]
    }
   ],
   "source": [
    "#initializing weights for all the columns in dev data and bias\n",
    "np.random.seed(0)\n",
    "rows, columns = x_dev.shape\n",
    "weights = np.random.rand(columns)\n",
    "bias_term = np.random.rand()\n",
    "\n",
    "\n",
    "\n",
    "for i in range(5):\n",
    "    y_pred = forward_propagation(x_dev, weights, bias_term)\n",
    "\n",
    "    cost = compute_cost(y_dev, y_pred)\n",
    "    print(f\"weights {weights}\")\n",
    "    print(f\"bias term {bias_term}\")\n",
    "    print(f\"cost for iteration = {i+1} is {cost}\")\n",
    "\n",
    "    weights, bias_term = backward_propagation(y_pred, x_dev, y_dev, weights, bias_term, 0.001)\n",
    "    \n",
    "    print()"
   ]
  },
  {
   "cell_type": "code",
   "execution_count": 214,
   "metadata": {},
   "outputs": [],
   "source": [
    "class MultipleLinearRegression:\n",
    "\n",
    "    def __init__(self, learning_rate, num_iterations, dev_x, dev_y) -> None:\n",
    "        self.learning_rate = learning_rate\n",
    "        self.num_iterations = num_iterations\n",
    "        self.rows, self.columns = dev_x.shape\n",
    "        self.dev_x = dev_x\n",
    "        self.dev_y = dev_y\n",
    "\n",
    "    def forward_propagation(self, weights, bias_term):\n",
    "        y_prediction = self.dev_x.dot(weights) + bias_term\n",
    "        return y_prediction\n",
    "\n",
    "    def compute_cost(self,dev_y, pred_y):\n",
    "        return (1/2*self.rows)*(np.sum(dev_y - pred_y) ** 2)\n",
    "    \n",
    "    def backward_propagation(self, pred_y, dev_x, dev_y, weights, bias_term):\n",
    "        dW = -(2* (dev_x.T).dot(dev_y - pred_y)) / self.rows\n",
    "        db = -(2* np.sum(dev_y - pred_y)) / self.rows\n",
    "\n",
    "        updated_weights = weights - self.learning_rate * dW\n",
    "        updated_bias_term = bias_term - self.learning_rate * db\n",
    "\n",
    "        return updated_weights, updated_bias_term\n",
    "\n",
    "    "
   ]
  },
  {
   "cell_type": "code",
   "execution_count": 215,
   "metadata": {},
   "outputs": [
    {
     "name": "stdout",
     "output_type": "stream",
     "text": [
      "cost for iteration=1 is 88449683195.49147\n",
      "cost for iteration=2 is 373505702565864.56\n",
      "cost for iteration=3 is 1.1185826774968252e+18\n",
      "cost for iteration=4 is 3.369422906514777e+21\n",
      "cost for iteration=5 is 1.0148385430411636e+25\n",
      "cost for iteration=6 is 3.056604311454542e+28\n",
      "cost for iteration=7 is 9.206222656645333e+31\n",
      "cost for iteration=8 is 2.772833086065037e+35\n",
      "cost for iteration=9 is 8.351528753801402e+38\n",
      "cost for iteration=10 is 2.5154068189718112e+42\n"
     ]
    }
   ],
   "source": [
    "np.random.seed(42)\n",
    "num_iterations = 10\n",
    "learning_rate = 0.01\n",
    "\n",
    "rows, columns = x_dev.shape\n",
    "weights = np.random.rand(columns)\n",
    "bias_term = np.random.rand()\n",
    "lr = MultipleLinearRegression(learning_rate, num_iterations, x_dev, y_dev)\n",
    "\n",
    "for i in range(10):\n",
    "    y_pred = lr.forward_propagation(weights, bias_term)\n",
    "    #print(y_pred[0:5])\n",
    "    cost = lr.compute_cost(y_dev, y_pred)\n",
    "    print(f\"cost for iteration={i+1} is {cost}\")\n",
    "    weights, bias_term = lr.backward_propagation(y_pred, x_dev, y_dev, weights, bias_term)\n",
    "    "
   ]
  },
  {
   "cell_type": "code",
   "execution_count": null,
   "metadata": {},
   "outputs": [],
   "source": []
  }
 ],
 "metadata": {
  "kernelspec": {
   "display_name": "Python 3.7.11 ('py37')",
   "language": "python",
   "name": "python3"
  },
  "language_info": {
   "codemirror_mode": {
    "name": "ipython",
    "version": 3
   },
   "file_extension": ".py",
   "mimetype": "text/x-python",
   "name": "python",
   "nbconvert_exporter": "python",
   "pygments_lexer": "ipython3",
   "version": "3.7.11"
  },
  "orig_nbformat": 4,
  "vscode": {
   "interpreter": {
    "hash": "4d950d682cfc87c474937804b524b56bf64e5076d2381004fd329a91dec786a7"
   }
  }
 },
 "nbformat": 4,
 "nbformat_minor": 2
}
